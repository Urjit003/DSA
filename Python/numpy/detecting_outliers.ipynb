{
 "cells": [
  {
   "cell_type": "code",
   "execution_count": null,
   "metadata": {},
   "outputs": [],
   "source": [
    "import numpy as np ;\n",
    "import pandas as pd \n",
    "import matplotlib.pyplot as plt \n",
    "import seaborn as sb\n",
    "%matplotlib inline"
   ]
  },
  {
   "cell_type": "code",
   "execution_count": 36,
   "metadata": {},
   "outputs": [],
   "source": [
    "dataset = pd.read_csv(\"September_MyCall_2023.csv\")\n",
    "# dataset = [11,10,12,13,14,107,15,16,120,166,15,17,18,19,20,21,22,10,11,50,60,59,6,120,119]\n"
   ]
  },
  {
   "cell_type": "code",
   "execution_count": null,
   "metadata": {},
   "outputs": [],
   "source": [
    "# plt.hist(dataset)\n",
    "dataset.hist()"
   ]
  },
  {
   "cell_type": "markdown",
   "metadata": {},
   "source": [
    "<h3> Removing NULL values </h3>"
   ]
  },
  {
   "cell_type": "code",
   "execution_count": 48,
   "metadata": {},
   "outputs": [
    {
     "data": {
      "text/plain": [
       "operator               0\n",
       "inout_travelling       0\n",
       "network_type           0\n",
       "rating                 0\n",
       "calldrop_category      0\n",
       "latitude               0\n",
       "longitude              0\n",
       "state_name           124\n",
       "dtype: int64"
      ]
     },
     "execution_count": 48,
     "metadata": {},
     "output_type": "execute_result"
    }
   ],
   "source": [
    "dataset.isnull().sum()"
   ]
  },
  {
   "cell_type": "code",
   "execution_count": 50,
   "metadata": {},
   "outputs": [],
   "source": [
    "cleaned_data = dataset.dropna()"
   ]
  },
  {
   "cell_type": "code",
   "execution_count": null,
   "metadata": {},
   "outputs": [],
   "source": [
    "cleaned_data.isnull().sum()"
   ]
  },
  {
   "cell_type": "markdown",
   "metadata": {},
   "source": [
    "<u><b>Detecting outliers</b></u>\n",
    "    <ul>Using Z-score </ul>"
   ]
  },
  {
   "cell_type": "code",
   "execution_count": 52,
   "metadata": {},
   "outputs": [],
   "source": [
    "outliers  = []\n",
    "# def detect_outliers (data):\n",
    "#     threshold = 3 # 3rd Standard deviation\n",
    "#     mean = np.mean(data)\n",
    "#     std = np.std(data)\n",
    "#     for i in data :\n",
    "#         z_score = (i - mean) / std \n",
    "#         if (np.abs(z_score) > threshold):\n",
    "#             outliers.append(i)\n",
    "#     return outliers\n",
    "def detect_outliers_zscore(data):\n",
    "    thres = 3\n",
    "    mean = np.mean(data)\n",
    "    std = np.std(data)\n",
    "    # print(mean, std)\n",
    "    for i in data:\n",
    "        z_score = (i-mean)/std\n",
    "        if (np.abs(z_score) > thres):\n",
    "            outliers.append(i)\n",
    "    return outliers"
   ]
  },
  {
   "cell_type": "code",
   "execution_count": 53,
   "metadata": {},
   "outputs": [
    {
     "name": "stdout",
     "output_type": "stream",
     "text": [
      "outliers from the dataset are  []\n"
     ]
    }
   ],
   "source": [
    "\n",
    "print(\"outliers from the dataset are \" ,detect_outliers_zscore(dataset[\"rating\"]))\n",
    "# sb.boxplot(dataset,orient=\"h\")"
   ]
  },
  {
   "cell_type": "code",
   "execution_count": 59,
   "metadata": {},
   "outputs": [
    {
     "data": {
      "text/plain": [
       "{'whiskers': [<matplotlib.lines.Line2D at 0x258386c3bd0>,\n",
       "  <matplotlib.lines.Line2D at 0x258386c30d0>],\n",
       " 'caps': [<matplotlib.lines.Line2D at 0x258386c2810>,\n",
       "  <matplotlib.lines.Line2D at 0x25838a77510>],\n",
       " 'boxes': [<matplotlib.lines.Line2D at 0x25838ab9150>],\n",
       " 'medians': [<matplotlib.lines.Line2D at 0x25838a77cd0>],\n",
       " 'fliers': [<matplotlib.lines.Line2D at 0x25838a77810>],\n",
       " 'means': []}"
      ]
     },
     "execution_count": 59,
     "metadata": {},
     "output_type": "execute_result"
    },
    {
     "data": {
      "image/png": "[encoded data removed]",
      "text/plain": [
       "<Figure size 640x480 with 1 Axes>"
      ]
     },
     "metadata": {},
     "output_type": "display_data"
    }
   ],
   "source": [
    "plt.boxplot(dataset[\"rating\"])"
   ]
  },
  {
   "cell_type": "markdown",
   "metadata": {},
   "source": [
    "<h2> Using <u>IQR</u> (inter quantile range) </h2>\n",
    "\n",
    "<ol> \n",
    "    <li><b> sort the data </b> </li>\n",
    "    <li><b> calulate Q1(25%) ,Q3(75%) </b> </li>\n",
    "    <li> <b>IQR(Q3-Q1)</b> </li>\n",
    "    <li> <b>Find the lower limit (q1-1.5(iqr))</b> </li>\n",
    "    <li> <b>Find the upper limit (q3+1.5(iqr))</b> </li>\n",
    "</ol>"
   ]
  },
  {
   "cell_type": "code",
   "execution_count": 65,
   "metadata": {},
   "outputs": [
    {
     "data": {
      "text/plain": [
       "<Axes: xlabel='rating'>"
      ]
     },
     "execution_count": 65,
     "metadata": {},
     "output_type": "execute_result"
    },
    {
     "data": {
      "image/png": "[encoded data removed]",
      "text/plain": [
       "<Figure size 640x480 with 1 Axes>"
      ]
     },
     "metadata": {},
     "output_type": "display_data"
    }
   ],
   "source": [
    "sorted_data = dataset.sort_values(by=\"rating\",ascending=True)\n",
    "sb.boxplot(dataset[\"rating\"],orient=\"h\")"
   ]
  },
  {
   "cell_type": "code",
   "execution_count": 67,
   "metadata": {},
   "outputs": [
    {
     "data": {
      "text/plain": [
       "(1.0, 4.0)"
      ]
     },
     "execution_count": 67,
     "metadata": {},
     "output_type": "execute_result"
    }
   ],
   "source": [
    "#2\n",
    "Q1,Q3 = np.percentile(dataset[\"rating\"],[25,75],interpolation=\"midpoint\")\n",
    "Q1,Q3"
   ]
  },
  {
   "cell_type": "code",
   "execution_count": 68,
   "metadata": {},
   "outputs": [
    {
     "data": {
      "text/plain": [
       "3.0"
      ]
     },
     "execution_count": 68,
     "metadata": {},
     "output_type": "execute_result"
    }
   ],
   "source": [
    "IQR = Q3-Q1\n",
    "IQR"
   ]
  },
  {
   "cell_type": "code",
   "execution_count": 69,
   "metadata": {},
   "outputs": [
    {
     "data": {
      "text/plain": [
       "(-3.5, 8.5)"
      ]
     },
     "execution_count": 69,
     "metadata": {},
     "output_type": "execute_result"
    }
   ],
   "source": [
    "#3\n",
    "lower_limit = Q1 - (1.5 *IQR)\n",
    "upper_limit = Q3 + (1.5*IQR)\n",
    "lower_limit,upper_limit"
   ]
  },
  {
   "cell_type": "code",
   "execution_count": 71,
   "metadata": {},
   "outputs": [
    {
     "data": {
      "text/plain": [
       "Text(0.5, 1.0, 'Outlies in Dataset')"
      ]
     },
     "execution_count": 71,
     "metadata": {},
     "output_type": "execute_result"
    },
    {
     "data": {
      "image/png": "[encoded data removed]",
      "text/plain": [
       "<Figure size 640x480 with 1 Axes>"
      ]
     },
     "metadata": {},
     "output_type": "display_data"
    }
   ],
   "source": [
    "plt.boxplot(dataset[\"rating\"],vert=False)\n",
    "plt.title(\"Outlies in Dataset\")\n",
    "# sb.boxplot(dataset , orient=\"h\")"
   ]
  },
  {
   "cell_type": "code",
   "execution_count": 76,
   "metadata": {},
   "outputs": [
    {
     "data": {
      "text/plain": [
       "operator               0\n",
       "inout_travelling       0\n",
       "network_type           0\n",
       "rating                 0\n",
       "calldrop_category      0\n",
       "latitude               0\n",
       "longitude              0\n",
       "state_name           124\n",
       "dtype: int64"
      ]
     },
     "execution_count": 76,
     "metadata": {},
     "output_type": "execute_result"
    }
   ],
   "source": [
    "dataset.isna().sum()"
   ]
  }
 ],
 "metadata": {
  "kernelspec": {
   "display_name": "Python 3",
   "language": "python",
   "name": "python3"
  },
  "language_info": {
   "codemirror_mode": {
    "name": "ipython",
    "version": 3
   },
   "file_extension": ".py",
   "mimetype": "text/x-python",
   "name": "python",
   "nbconvert_exporter": "python",
   "pygments_lexer": "ipython3",
   "version": "3.11.8"
  }
 },
 "nbformat": 4,
 "nbformat_minor": 2
}
