{
 "cells": [
  {
   "cell_type": "code",
   "execution_count": 62,
   "metadata": {},
   "outputs": [],
   "source": [
    "import numpy as np ;\n",
    "import pandas as pd ;\n",
    "import matplotlib.pyplot as plt \n",
    "from scipy import stats"
   ]
  },
  {
   "cell_type": "code",
   "execution_count": 63,
   "metadata": {},
   "outputs": [],
   "source": [
    "# Sample data\n",
    "data = {\n",
    "    'value': [10, 12, 12, 13, 12, 11, 10, 14, 13, 15, 10, 100, 12, 10, 12, 11, 13, 14, 15, 10, 10, 13, 12, 11]\n",
    "}\n",
    "\n",
    "# Create DataFrame\n",
    "df = pd.DataFrame(data)"
   ]
  },
  {
   "cell_type": "markdown",
   "metadata": {},
   "source": [
    "<h1>Method 1: Removing Outliers</h1>\n"
   ]
  },
  {
   "cell_type": "code",
   "execution_count": 64,
   "metadata": {},
   "outputs": [
    {
     "name": "stdout",
     "output_type": "stream",
     "text": [
      "    value\n",
      "9      15\n",
      "11    100\n",
      "18     15\n"
     ]
    }
   ],
   "source": [
    "def remove_outliers (df):\n",
    "    Q1 = df.quantile(0.25)\n",
    "    Q3 = df.quantile(0.75)\n",
    "    IQR = Q3-Q1\n",
    "    lower_bound = Q1 - 1.5 *IQR \n",
    "    upper_bound = Q1 + 1.5 *IQR \n",
    "    df_cleaned = df [((df < lower_bound  )| (df > upper_bound)).any(axis = 1 )]\n",
    "    return df_cleaned\n",
    "print(remove_outliers(df))"
   ]
  },
  {
   "cell_type": "markdown",
   "metadata": {},
   "source": [
    "<h2> Transforming data </h2>"
   ]
  },
  {
   "cell_type": "code",
   "execution_count": 65,
   "metadata": {},
   "outputs": [
    {
     "name": "stdout",
     "output_type": "stream",
     "text": [
      "       value\n",
      "0   2.302585\n",
      "1   2.484907\n",
      "2   2.484907\n",
      "3   2.564949\n",
      "4   2.484907\n",
      "5   2.397895\n",
      "6   2.302585\n",
      "7   2.639057\n",
      "8   2.564949\n",
      "9   2.708050\n",
      "10  2.302585\n",
      "11  4.605170\n",
      "12  2.484907\n",
      "13  2.302585\n",
      "14  2.484907\n",
      "15  2.397895\n",
      "16  2.564949\n",
      "17  2.639057\n",
      "18  2.708050\n",
      "19  2.302585\n",
      "20  2.302585\n",
      "21  2.564949\n",
      "22  2.484907\n",
      "23  2.397895\n"
     ]
    }
   ],
   "source": [
    "def log_transform(df) :\n",
    "    return np.log(df)\n",
    "print(log_transform(df))"
   ]
  },
  {
   "cell_type": "markdown",
   "metadata": {},
   "source": [
    "<h1>Capping/Flooring Outliers </h1>"
   ]
  },
  {
   "cell_type": "code",
   "execution_count": null,
   "metadata": {},
   "outputs": [],
   "source": [
    "def cap_outliers(df):\n",
    "    Q1 = df.quantile(0.25)\n",
    "    Q3 = df.quantile(0.75)\n",
    "    IQR = Q3 - Q1\n",
    "    lower_bound = Q1 - 1.5 * IQR\n",
    "    upper_bound = Q3 + 1.5 * IQR\n",
    "    df_capped = df.copy()\n",
    "    for column in df.columns:\n",
    "        df_capped[column] = df[column].apply(\n",
    "            lambda x: lower_bound[column] if x < lower_bound[column] else upper_bound[column] if x > upper_bound[column] else x\n",
    "        )\n",
    "    return df_capped\n",
    "capped_outliers = cap_outliers(df)\n",
    "print(capped_outliers)"
   ]
  },
  {
   "cell_type": "markdown",
   "metadata": {},
   "source": [
    "<h1> imputation</h1>"
   ]
  },
  {
   "cell_type": "code",
   "execution_count": null,
   "metadata": {},
   "outputs": [],
   "source": [
    "def impute_outliers(df):\n",
    "    Q1 = df.quantile(0.25)\n",
    "    Q3 = df.quantile(0.75)\n",
    "    IQR = Q3 - Q1\n",
    "    lower_bound = Q1 - 1.5 * IQR\n",
    "    upper_bound = Q3 + 1.5 * IQR\n",
    "    df_imputed = df.copy()\n",
    "    for column in df.columns:\n",
    "        median_value = df[column].median()\n",
    "        df_imputed[column] = df[column].apply(\n",
    "            lambda x: median_value if x < lower_bound[column] or x > upper_bound[column] else x\n",
    "        )\n",
    "    return df_imputed\n",
    "\n",
    "df_imputed = impute_outliers(df)\n",
    "print(\"Data after imputing outliers:\\n\", df_imputed)"
   ]
  },
  {
   "cell_type": "markdown",
   "metadata": {},
   "source": [
    "<h1> robust statistical methos <h1>"
   ]
  },
  {
   "cell_type": "code",
   "execution_count": 75,
   "metadata": {},
   "outputs": [
    {
     "name": "stdout",
     "output_type": "stream",
     "text": [
      "Median of the data (robust to outliers): 12.0\n"
     ]
    }
   ],
   "source": [
    "median_value = df['value'].median()\n",
    "print(\"Median of the data (robust to outliers):\", median_value)\n"
   ]
  }
 ],
 "metadata": {
  "kernelspec": {
   "display_name": "Python 3",
   "language": "python",
   "name": "python3"
  },
  "language_info": {
   "codemirror_mode": {
    "name": "ipython",
    "version": 3
   },
   "file_extension": ".py",
   "mimetype": "text/x-python",
   "name": "python",
   "nbconvert_exporter": "python",
   "pygments_lexer": "ipython3",
   "version": "3.12.3"
  }
 },
 "nbformat": 4,
 "nbformat_minor": 2
}
