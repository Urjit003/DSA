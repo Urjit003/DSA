{
 "cells": [
  {
   "cell_type": "code",
   "execution_count": 12,
   "metadata": {},
   "outputs": [],
   "source": [
    "import numpy as np ;\n",
    "import pandas as pd ;\n",
    "import matplotlib.pyplot as plt \n",
    "from scipy import stats"
   ]
  },
  {
   "cell_type": "code",
   "execution_count": 13,
   "metadata": {},
   "outputs": [],
   "source": [
    "data =  {\n",
    "    'value': [10, 12, 12, 13, 12, 11, 10, 14, 13, 15, 10, 1015,750 ,12, 10, 12, 11, 13, 14, 15, 10, 10, 13, 12, 11]\n",
    "}\n",
    "\n",
    "df= pd.DataFrame(data)"
   ]
  },
  {
   "cell_type": "markdown",
   "metadata": {},
   "source": [
    "<h2> 1) using IQR </h2>"
   ]
  },
  {
   "cell_type": "code",
   "execution_count": 14,
   "metadata": {},
   "outputs": [
    {
     "name": "stdout",
     "output_type": "stream",
     "text": [
      "Outliers detected using Z-score:\n",
      "      value\n",
      "9     15.0\n",
      "11  1015.0\n",
      "12   750.0\n",
      "19    15.0\n"
     ]
    }
   ],
   "source": [
    "def detect_outliers (df) :\n",
    "    Q1 = df.quantile(0.25)\n",
    "    Q3 = df.quantile(0.75)\n",
    "    IQR = Q3-Q1\n",
    "    lower_bound = Q1 - 1.5 *IQR \n",
    "    upper_bound = Q1 + 1.5 *IQR \n",
    "    outliers = df[ (df < lower_bound) | (df > upper_bound)]\n",
    "    return outliers\n",
    "\n",
    "outliers_iqr = detect_outliers(df) \n",
    "print(\"Outliers detected using Z-score:\\n\",outliers_iqr.dropna())"
   ]
  },
  {
   "cell_type": "markdown",
   "metadata": {},
   "source": [
    "<h2>2) using Z-score </h2>"
   ]
  },
  {
   "cell_type": "code",
   "execution_count": 15,
   "metadata": {},
   "outputs": [
    {
     "name": "stdout",
     "output_type": "stream",
     "text": [
      "Outliers detected using Z-score:\n",
      "     value\n",
      "11   1015\n"
     ]
    }
   ],
   "source": [
    "def detect_outliers_using_zscore(df) :\n",
    "    z_score = np.abs(stats.zscore(df))\n",
    "    threshold = 3 \n",
    "    outliers = df[(z_score > threshold).any(axis=1)]\n",
    "    return outliers \n",
    "outliers_zscore = detect_outliers_using_zscore(df)\n",
    "print(\"Outliers detected using Z-score:\\n\", outliers_zscore)"
   ]
  },
  {
   "cell_type": "markdown",
   "metadata": {},
   "source": [
    "<h2>3 .using BoxPlot </h2>"
   ]
  },
  {
   "cell_type": "code",
   "execution_count": 16,
   "metadata": {},
   "outputs": [
    {
     "data": {
      "image/png": "[encoded data removed]",
      "text/plain": [
       "<Figure size 1000x100 with 1 Axes>"
      ]
     },
     "metadata": {},
     "output_type": "display_data"
    }
   ],
   "source": [
    "def plot_boxplot(df):\n",
    "    plt.figure(figsize=(10, 1))\n",
    "    plt.boxplot(df['value'], vert=False)\n",
    "    plt.title('Box plot for detecting outliers')\n",
    "    plt.xlabel('Value')\n",
    "    plt.show()\n",
    "plot_boxplot(df)"
   ]
  },
  {
   "cell_type": "code",
   "execution_count": null,
   "metadata": {},
   "outputs": [],
   "source": []
  }
 ],
 "metadata": {
  "kernelspec": {
   "display_name": "Python 3",
   "language": "python",
   "name": "python3"
  },
  "language_info": {
   "codemirror_mode": {
    "name": "ipython",
    "version": 3
   },
   "file_extension": ".py",
   "mimetype": "text/x-python",
   "name": "python",
   "nbconvert_exporter": "python",
   "pygments_lexer": "ipython3",
   "version": "3.12.3"
  }
 },
 "nbformat": 4,
 "nbformat_minor": 2
}
